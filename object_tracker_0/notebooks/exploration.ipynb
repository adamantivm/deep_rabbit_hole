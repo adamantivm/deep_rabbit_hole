{
  "cells": [
    {
      "cell_type": "markdown",
      "metadata": {},
      "source": [
        "# Rabbit Object Tracker - Data Exploration\n",
        "\n",
        "This Jupyter notebook is used for data exploration and analysis in the Rabbit Object Tracker project.\n",
        "You can use this notebook to visualize and understand the raw and processed data.\n"
      ]
    },
    {
      "cell_type": "code",
      "metadata": {},
      "source": [
        "# Import necessary libraries\n",
        "import pandas as pd\n",
        "import matplotlib.pyplot as plt\n",
        "\n",
        "# Load the raw data\n",
        "raw_data = pd.read_csv('../data/raw/data.csv')\n",
        "\n",
        "# Display the first few rows of the raw data\n",
        "raw_data.head()\n",
        "\n",
        "# Perform data exploration and analysis\n",
        "# TODO: Add your code here\n",
        "\n",
        "# Visualize the processed data\n",
        "processed_data = pd.read_csv('../data/processed/processed_data.csv')\n",
        "\n",
        "# Plot a histogram of the processed data\n",
        "plt.hist(processed_data['feature'], bins=10)\n",
        "plt.xlabel('Feature')\n",
        "plt.ylabel('Count')\n",
        "plt.title('Histogram of Processed Data')\n",
        "plt.show()\n"
      ]
    }
  ],
  "metadata": {
    "kernelspec": {
      "display_name": "Python 3",
      "language": "python",
      "name": "python3"
    },
    "language_info": {
      "codemirror_mode": {
        "name": "ipython",
        "version": 3
      },
      "file_extension": ".py",
      "mimetype": "text/x-python",
      "name": "python",
      "nbconvert_exporter": "python",
      "pygments_lexer": "ipython3",
      "version": "3.9.7"
    }
  },
  "nbformat": 4,
  "nbformat_minor": 5
}